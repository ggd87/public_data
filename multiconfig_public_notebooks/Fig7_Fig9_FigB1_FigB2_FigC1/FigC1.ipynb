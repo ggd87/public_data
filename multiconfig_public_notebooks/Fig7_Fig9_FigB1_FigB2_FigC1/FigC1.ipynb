{
 "cells": [
  {
   "cell_type": "code",
   "execution_count": null,
   "id": "8bd225bf-5f51-4c11-a1a5-2d47006425a9",
   "metadata": {},
   "outputs": [],
   "source": [
    "# notebook to obtain results for Figure C1 of https://arxiv.org/pdf/2508.05390v1"
   ]
  },
  {
   "cell_type": "code",
   "execution_count": null,
   "id": "345b0cb1",
   "metadata": {},
   "outputs": [],
   "source": [
    "import numpy as np\n",
    "from pyscf import gto, scf, lo\n",
    "from pyscf.tools import cubegen\n",
    "\n",
    "theta_deg = 0\n",
    "Ht = np.array([0.0000,\t0.9289,\t1.2321])\n",
    "Ct = np.array([0.0000,\t0.0000,\t0.6695])\n",
    "C1 = np.array([0.0000,\t0.0000,\t-0.6695])\n",
    "H1 = np.array([0.0000,\t0.9289,\t-1.2321])\n",
    "theta = theta_deg * np.pi / 180\n",
    "\n",
    "v = Ht \n",
    "k = (Ct - C1) / np.linalg.norm(Ct - C1)\n",
    "# Rodrigues' rotation formula https://en.wikipedia.org/wiki/Rodrigues%27_rotation_formula\n",
    "v_rot = v * np.cos(theta) + np.cross(k, v) * np.sin(theta) + k*(np.dot(k,v))*(1.0-np.cos(theta))\n",
    "print(v_rot)\n",
    "v_H = np.array([-v_rot[0], -v_rot[1], v_rot[2]])\n",
    "mol = gto.Mole()\n",
    "mol.atom = [\n",
    "['C',   [0.0000,\t0.0000,\t0.6695]],\n",
    "['C',   [0.0000,\t0.0000,\t-0.6695]],\n",
    "['H',   v_rot],\n",
    "['H',   v_H],\n",
    "['H',   [0.0000,\t0.9289,\t-1.2321]],\n",
    "['H',   [0.0000,\t-0.9289,\t-1.2321]]\n",
    "] \n",
    "mol.basis = 'sto-3g'\n",
    "mol.charge = 0\n",
    "mol.build()\n",
    "mf = scf.RHF(mol).run()"
   ]
  },
  {
   "cell_type": "code",
   "execution_count": null,
   "id": "72f7f71d",
   "metadata": {},
   "outputs": [],
   "source": [
    "import pandas as pd\n",
    "table = pd.DataFrame({\"Energy\": mf.mo_energy, \"Occupancy\": mf.mo_occ})\n",
    "table"
   ]
  },
  {
   "cell_type": "code",
   "execution_count": null,
   "id": "91691502",
   "metadata": {},
   "outputs": [],
   "source": [
    "def find_homo_lumo(mf):\n",
    "    lumo = float(\"inf\")\n",
    "    lumo_idx = None\n",
    "    homo = -float(\"inf\")\n",
    "    homo_idx = None\n",
    "    for i, (energy, occ) in enumerate(zip(mf.mo_energy, mf.mo_occ)):\n",
    "        if occ > 0 and energy > homo:\n",
    "            homo = energy\n",
    "            homo_idx = i\n",
    "        if occ == 0 and energy < lumo:\n",
    "            lumo = energy\n",
    "            lumo_idx = i\n",
    "\n",
    "    return homo, homo_idx, lumo, lumo_idx\n",
    "\n",
    "\n",
    "_, homo_idx, _, lumo_idx = find_homo_lumo(mf)\n",
    "print(f\"HOMO (index): {homo_idx}\")\n",
    "print(f\"LUMO (index): {lumo_idx}\")"
   ]
  },
  {
   "cell_type": "code",
   "execution_count": null,
   "id": "43e090a0",
   "metadata": {},
   "outputs": [],
   "source": [
    "def get_mo(mf, mol):\n",
    "    \"\"\"Get molecular orbitals\"\"\"\n",
    "    orbitals = {\"canonical\": mf.mo_coeff}\n",
    "\n",
    "    # Get intrinsic bonding orbitals and localized intrinsic valence virtual orbitals (livvo):\n",
    "    orbocc = mf.mo_coeff[:, 0 : mol.nelec[0]]\n",
    "    orbvirt = mf.mo_coeff[:, mol.nelec[0] :]\n",
    "\n",
    "    ovlpS = mol.intor_symmetric(\"int1e_ovlp\")\n",
    "\n",
    "    iaos = lo.iao.iao(mol, orbocc)\n",
    "    iaos = lo.orth.vec_lowdin(iaos, ovlpS)\n",
    "    ibos = lo.ibo.ibo(mol, orbocc, locmethod=\"IBO\")\n",
    "    orbitals[\"ibo\"] = ibos\n",
    "\n",
    "    livvo = lo.vvo.livvo(mol, orbocc, orbvirt)\n",
    "    orbitals[\"livvo\"] = livvo\n",
    "    return orbitals"
   ]
  },
  {
   "cell_type": "code",
   "execution_count": null,
   "id": "267af3c5",
   "metadata": {},
   "outputs": [],
   "source": [
    "orbitals = get_mo(mf, mol)"
   ]
  },
  {
   "cell_type": "code",
   "execution_count": null,
   "id": "e8b80553",
   "metadata": {},
   "outputs": [],
   "source": [
    "from pyscf import gto, scf, lo, tools\n",
    "tools.cubegen.orbital(\n",
    "    mol, \"cmo_7.cube\", orbitals[\"canonical\"][:, 7], margin=5\n",
    ")\n",
    "tools.cubegen.orbital(\n",
    "    mol, \"cmo_8.cube\", orbitals[\"canonical\"][:, 8], margin=5\n",
    ")\n",
    "\n",
    "tools.cubegen.orbital(\n",
    "    mol, \"cmo_5.cube\", orbitals[\"canonical\"][:, 5], margin=5\n",
    ")\n",
    "tools.cubegen.orbital(\n",
    "    mol, \"cmo_13.cube\", orbitals[\"canonical\"][:, 13], margin=5\n",
    ")\n",
    "\n",
    "tools.cubegen.orbital(\n",
    "    mol, \"cmo_4.cube\", orbitals[\"canonical\"][:, 4], margin=5\n",
    ")\n",
    "tools.cubegen.orbital(\n",
    "    mol, \"cmo_9.cube\", orbitals[\"canonical\"][:, 9], margin=5\n",
    ")"
   ]
  },
  {
   "cell_type": "code",
   "execution_count": null,
   "id": "e65d52c9",
   "metadata": {},
   "outputs": [],
   "source": [
    "data = None\n",
    "\n",
    "cmo_file = \"cmo_7.cube\"  # use the cube file names specified in previous cell to visualise other orbitals shown in Fig. C.1.\n",
    "\n",
    "with open(cmo_file, \"r\") as infile:\n",
    "    data = infile.read()"
   ]
  },
  {
   "cell_type": "code",
   "execution_count": null,
   "id": "f9345689",
   "metadata": {},
   "outputs": [],
   "source": [
    "import py3Dmol\n",
    "\n",
    "view = py3Dmol.view()\n",
    "view.addVolumetricData(\n",
    "    data,\n",
    "    \"cube\",\n",
    "    {\n",
    "        \"isoval\": 0.05,\n",
    "        \"smoothness\": 5,\n",
    "        \"opacity\": 0.8,\n",
    "        \"volformat\": \"cube\",\n",
    "        \"color\": \"blue\",\n",
    "    },\n",
    ")\n",
    "view.addVolumetricData(\n",
    "    data,\n",
    "    \"cube\",\n",
    "    {\n",
    "        \"isoval\": -0.05,\n",
    "        \"smoothness\": 5,\n",
    "        \"opacity\": 0.8,\n",
    "        \"volformat\": \"cube\",\n",
    "        \"color\": \"orange\",\n",
    "    },\n",
    ")\n",
    "view.addModel(data, \"cube\")\n",
    "view.rotate(-90, \"y\")\n",
    "view.rotate(45, \"z\")\n",
    "view.setStyle({\"stick\": {}})\n",
    "view.zoomTo()\n",
    "view.show()"
   ]
  },
  {
   "cell_type": "code",
   "execution_count": null,
   "id": "ceb9b120",
   "metadata": {},
   "outputs": [],
   "source": [
    "view.png()"
   ]
  },
  {
   "cell_type": "code",
   "execution_count": null,
   "id": "804357b0-1770-44c8-8058-ba778b4081c0",
   "metadata": {},
   "outputs": [],
   "source": []
  }
 ],
 "metadata": {
  "kernelspec": {
   "display_name": "Python 3 (ipykernel)",
   "language": "python",
   "name": "python3"
  },
  "language_info": {
   "codemirror_mode": {
    "name": "ipython",
    "version": 3
   },
   "file_extension": ".py",
   "mimetype": "text/x-python",
   "name": "python",
   "nbconvert_exporter": "python",
   "pygments_lexer": "ipython3",
   "version": "3.11.8"
  }
 },
 "nbformat": 4,
 "nbformat_minor": 5
}
